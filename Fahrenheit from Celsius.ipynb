{
  "nbformat": 4,
  "nbformat_minor": 0,
  "metadata": {
    "colab": {
      "name": "Untitled0.ipynb",
      "provenance": []
    },
    "kernelspec": {
      "name": "python3",
      "display_name": "Python 3"
    }
  },
  "cells": [
    {
      "cell_type": "code",
      "metadata": {
        "id": "IUDmLFq00ZnE",
        "colab_type": "code",
        "colab": {}
      },
      "source": [
        "from __future__ import division, absolute_import, print_function, unicode_literals"
      ],
      "execution_count": 0,
      "outputs": []
    },
    {
      "cell_type": "code",
      "metadata": {
        "id": "QbkXHcNN7kBJ",
        "colab_type": "code",
        "colab": {}
      },
      "source": [
        "try:\n",
        "  %tensorflow_version 2.x\n",
        "except Exception:\n",
        "  pass\n",
        "import tensorflow as tf\n",
        "import numpy as np\n",
        "import logging\n",
        "logger=tf.get_logger()\n",
        "logger.setLevel(logging.ERROR) "
      ],
      "execution_count": 0,
      "outputs": []
    },
    {
      "cell_type": "code",
      "metadata": {
        "id": "-tm7smxu7wok",
        "colab_type": "code",
        "colab": {}
      },
      "source": [
        "celsius_q=np.array([-40, -10,  0,  8, 15, 22,  38], dtype=float)\n",
        "fahrenheit_a=np.array([-40,  14, 32, 46, 59, 72, 100], dtype=float)"
      ],
      "execution_count": 0,
      "outputs": []
    },
    {
      "cell_type": "code",
      "metadata": {
        "id": "2KvPB_wM8IMD",
        "colab_type": "code",
        "colab": {
          "base_uri": "https://localhost:8080/",
          "height": 139
        },
        "outputId": "119b2941-5895-49ba-b176-29a2adfe8cda"
      },
      "source": [
        "for i,c in enumerate(celsius_q):\n",
        "  print(\"{} is the celsius equivalent of {} fahrenheit\".format(c, fahrenheit_a[i]) )"
      ],
      "execution_count": 6,
      "outputs": [
        {
          "output_type": "stream",
          "text": [
            "-40.0 is the celsius equivalent of -40.0 fahrenheit\n",
            "-10.0 is the celsius equivalent of 14.0 fahrenheit\n",
            "0.0 is the celsius equivalent of 32.0 fahrenheit\n",
            "8.0 is the celsius equivalent of 46.0 fahrenheit\n",
            "15.0 is the celsius equivalent of 59.0 fahrenheit\n",
            "22.0 is the celsius equivalent of 72.0 fahrenheit\n",
            "38.0 is the celsius equivalent of 100.0 fahrenheit\n"
          ],
          "name": "stdout"
        }
      ]
    },
    {
      "cell_type": "code",
      "metadata": {
        "id": "1do8gGxK8acH",
        "colab_type": "code",
        "colab": {}
      },
      "source": [
        "l0=tf.keras.layers.Dense(units=1, input_shape=[1])"
      ],
      "execution_count": 0,
      "outputs": []
    },
    {
      "cell_type": "code",
      "metadata": {
        "id": "pZSmhijs8ukZ",
        "colab_type": "code",
        "colab": {}
      },
      "source": [
        "model = tf.keras.Sequential([l0])"
      ],
      "execution_count": 0,
      "outputs": []
    },
    {
      "cell_type": "code",
      "metadata": {
        "id": "9EaFct909Mdp",
        "colab_type": "code",
        "colab": {}
      },
      "source": [
        "model.compile(loss='mean_squared_error', optimizer=tf.keras.optimizers.Adam(0.1))"
      ],
      "execution_count": 0,
      "outputs": []
    },
    {
      "cell_type": "code",
      "metadata": {
        "id": "RftdiN6L9X4j",
        "colab_type": "code",
        "colab": {}
      },
      "source": [
        "history=model.fit(celsius_q, fahrenheit_a, epochs=2000, verbose=False)"
      ],
      "execution_count": 0,
      "outputs": []
    },
    {
      "cell_type": "code",
      "metadata": {
        "id": "U9AROoXE9lYc",
        "colab_type": "code",
        "colab": {
          "base_uri": "https://localhost:8080/",
          "height": 34
        },
        "outputId": "879c703d-69b1-42b1-c8ed-0ae368424d91"
      },
      "source": [
        "print(\"finished training the model\")"
      ],
      "execution_count": 21,
      "outputs": [
        {
          "output_type": "stream",
          "text": [
            "finished training the model\n"
          ],
          "name": "stdout"
        }
      ]
    },
    {
      "cell_type": "code",
      "metadata": {
        "id": "vjDkmpRs9pqT",
        "colab_type": "code",
        "colab": {
          "base_uri": "https://localhost:8080/",
          "height": 296
        },
        "outputId": "a31a269a-db58-45cb-b9e4-0aebb6ffac91"
      },
      "source": [
        "import matplotlib.pyplot as plt\n",
        "plt.xlabel('Epoch number')\n",
        "plt.ylabel('Loss magnitude')\n",
        "plt.plot(history.history['loss'])"
      ],
      "execution_count": 22,
      "outputs": [
        {
          "output_type": "execute_result",
          "data": {
            "text/plain": [
              "[<matplotlib.lines.Line2D at 0x7fc5b0fdf3c8>]"
            ]
          },
          "metadata": {
            "tags": []
          },
          "execution_count": 22
        },
        {
          "output_type": "display_data",
          "data": {
            "image/png": "[encoded data removed]",
            "text/plain": [
              "<Figure size 432x288 with 1 Axes>"
            ]
          },
          "metadata": {
            "tags": []
          }
        }
      ]
    },
    {
      "cell_type": "code",
      "metadata": {
        "id": "-CSKOCid-Jcf",
        "colab_type": "code",
        "colab": {
          "base_uri": "https://localhost:8080/",
          "height": 34
        },
        "outputId": "d122c46b-dff1-4886-c745-58ae37d36923"
      },
      "source": [
        "print(model.predict([100.0]))"
      ],
      "execution_count": 23,
      "outputs": [
        {
          "output_type": "stream",
          "text": [
            "[[211.74744]]\n"
          ],
          "name": "stdout"
        }
      ]
    },
    {
      "cell_type": "code",
      "metadata": {
        "id": "eyzqN1Ow-SRk",
        "colab_type": "code",
        "colab": {
          "base_uri": "https://localhost:8080/",
          "height": 34
        },
        "outputId": "859e4ab2-acaf-413b-fdb9-576d6ce60e91"
      },
      "source": [
        "print(\"{} these are our variables\".format(l0.get_weights()))"
      ],
      "execution_count": 24,
      "outputs": [
        {
          "output_type": "stream",
          "text": [
            "[array([[1.7979493]], dtype=float32), array([31.9525], dtype=float32)] these are our variables\n"
          ],
          "name": "stdout"
        }
      ]
    },
    {
      "cell_type": "code",
      "metadata": {
        "id": "_XxekT_x-xDU",
        "colab_type": "code",
        "colab": {}
      },
      "source": [
        ""
      ],
      "execution_count": 0,
      "outputs": []
    }
  ]
}